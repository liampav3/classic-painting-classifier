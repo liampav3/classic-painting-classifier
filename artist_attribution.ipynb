{
 "cells": [
  {
   "cell_type": "markdown",
   "id": "abf7ed49",
   "metadata": {
    "id": "oy7NGkXyVxYe"
   },
   "source": [
    "Artist Attribution"
   ]
  },
  {
   "cell_type": "code",
   "execution_count": null,
   "id": "25b7e7a2",
   "metadata": {
    "colab": {
     "base_uri": "https://localhost:8080/"
    },
    "id": "sXrwt6sItAVD",
    "outputId": "a2181dd0-3a2b-4502-80a6-e402c6bc37dc"
   },
   "outputs": [
    {
     "name": "stdout",
     "output_type": "stream",
     "text": [
      "Mounted at /content/drive/\n"
     ]
    }
   ],
   "source": [
    "from google.colab import drive\n",
    "drive.mount('/content/drive/')\n",
    "!unzip -q '/content/drive/MyDrive/artists/images.zip' -d '/content' "
   ]
  },
  {
   "cell_type": "code",
   "execution_count": null,
   "id": "2565e110",
   "metadata": {
    "id": "o8WLZvuIVxYh"
   },
   "outputs": [],
   "source": [
    "import numpy as np\n",
    "import pandas as pd\n",
    "\n",
    "\n",
    "import matplotlib.pyplot as plt\n",
    "import seaborn as sns\n",
    "\n",
    "from keras.models import Sequential\n",
    "from keras import layers\n",
    "import keras\n",
    "\n",
    "from keras.preprocessing.image import ImageDataGenerator\n",
    "from sklearn.model_selection import train_test_split\n",
    "import os\n"
   ]
  },
  {
   "cell_type": "code",
   "execution_count": null,
   "id": "7beb6457",
   "metadata": {
    "colab": {
     "base_uri": "https://localhost:8080/",
     "height": 433
    },
    "id": "O1a_361HVxYi",
    "outputId": "55053cb6-5e7e-42c4-ffac-c3ccb6bff0ca"
   },
   "outputs": [
    {
     "data": {
      "text/html": [
       "<div>\n",
       "<style scoped>\n",
       "    .dataframe tbody tr th:only-of-type {\n",
       "        vertical-align: middle;\n",
       "    }\n",
       "\n",
       "    .dataframe tbody tr th {\n",
       "        vertical-align: top;\n",
       "    }\n",
       "\n",
       "    .dataframe thead th {\n",
       "        text-align: right;\n",
       "    }\n",
       "</style>\n",
       "<table border=\"1\" class=\"dataframe\">\n",
       "  <thead>\n",
       "    <tr style=\"text-align: right;\">\n",
       "      <th></th>\n",
       "      <th>id</th>\n",
       "      <th>name</th>\n",
       "      <th>years</th>\n",
       "      <th>genre</th>\n",
       "      <th>nationality</th>\n",
       "      <th>bio</th>\n",
       "      <th>wikipedia</th>\n",
       "      <th>paintings</th>\n",
       "    </tr>\n",
       "  </thead>\n",
       "  <tbody>\n",
       "    <tr>\n",
       "      <th>0</th>\n",
       "      <td>0</td>\n",
       "      <td>Amedeo Modigliani</td>\n",
       "      <td>1884 - 1920</td>\n",
       "      <td>Expressionism</td>\n",
       "      <td>Italian</td>\n",
       "      <td>Amedeo Clemente Modigliani (Italian pronunciat...</td>\n",
       "      <td>http://en.wikipedia.org/wiki/Amedeo_Modigliani</td>\n",
       "      <td>193</td>\n",
       "    </tr>\n",
       "    <tr>\n",
       "      <th>1</th>\n",
       "      <td>1</td>\n",
       "      <td>Vasiliy Kandinskiy</td>\n",
       "      <td>1866 - 1944</td>\n",
       "      <td>Expressionism,Abstractionism</td>\n",
       "      <td>Russian</td>\n",
       "      <td>Wassily Wassilyevich Kandinsky (Russian: Васи́...</td>\n",
       "      <td>http://en.wikipedia.org/wiki/Wassily_Kandinsky</td>\n",
       "      <td>88</td>\n",
       "    </tr>\n",
       "    <tr>\n",
       "      <th>2</th>\n",
       "      <td>2</td>\n",
       "      <td>Diego Rivera</td>\n",
       "      <td>1886 - 1957</td>\n",
       "      <td>Social Realism,Muralism</td>\n",
       "      <td>Mexican</td>\n",
       "      <td>Diego María de la Concepción Juan Nepomuceno E...</td>\n",
       "      <td>http://en.wikipedia.org/wiki/Diego_Rivera</td>\n",
       "      <td>70</td>\n",
       "    </tr>\n",
       "    <tr>\n",
       "      <th>3</th>\n",
       "      <td>3</td>\n",
       "      <td>Claude Monet</td>\n",
       "      <td>1840 - 1926</td>\n",
       "      <td>Impressionism</td>\n",
       "      <td>French</td>\n",
       "      <td>Oscar-Claude Monet (; French: [klod mɔnɛ]; 14 ...</td>\n",
       "      <td>http://en.wikipedia.org/wiki/Claude_Monet</td>\n",
       "      <td>73</td>\n",
       "    </tr>\n",
       "    <tr>\n",
       "      <th>4</th>\n",
       "      <td>4</td>\n",
       "      <td>Rene Magritte</td>\n",
       "      <td>1898 - 1967</td>\n",
       "      <td>Surrealism,Impressionism</td>\n",
       "      <td>Belgian</td>\n",
       "      <td>René François Ghislain Magritte (French: [ʁəne...</td>\n",
       "      <td>http://en.wikipedia.org/wiki/René_Magritte</td>\n",
       "      <td>194</td>\n",
       "    </tr>\n",
       "    <tr>\n",
       "      <th>5</th>\n",
       "      <td>5</td>\n",
       "      <td>Salvador Dali</td>\n",
       "      <td>1904 - 1989</td>\n",
       "      <td>Surrealism</td>\n",
       "      <td>Spanish</td>\n",
       "      <td>Salvador Domingo Felipe Jacinto Dalí i Domènec...</td>\n",
       "      <td>http://en.wikipedia.org/wiki/Salvador_Dalí</td>\n",
       "      <td>139</td>\n",
       "    </tr>\n",
       "    <tr>\n",
       "      <th>6</th>\n",
       "      <td>6</td>\n",
       "      <td>Edouard Manet</td>\n",
       "      <td>1832 - 1883</td>\n",
       "      <td>Realism,Impressionism</td>\n",
       "      <td>French</td>\n",
       "      <td>Édouard Manet (US: ; UK: ; French: [edwaʁ manɛ...</td>\n",
       "      <td>http://en.wikipedia.org/wiki/Édouard_Manet</td>\n",
       "      <td>90</td>\n",
       "    </tr>\n",
       "    <tr>\n",
       "      <th>7</th>\n",
       "      <td>7</td>\n",
       "      <td>Andrei Rublev</td>\n",
       "      <td>1360 - 1430</td>\n",
       "      <td>Byzantine Art</td>\n",
       "      <td>Russian</td>\n",
       "      <td>Andrei Rublev (Russian: Андре́й Рублёв, IPA: [...</td>\n",
       "      <td>http://en.wikipedia.org/wiki/Andrei_Rublev</td>\n",
       "      <td>99</td>\n",
       "    </tr>\n",
       "    <tr>\n",
       "      <th>8</th>\n",
       "      <td>8</td>\n",
       "      <td>Vincent van Gogh</td>\n",
       "      <td>1853 – 1890</td>\n",
       "      <td>Post-Impressionism</td>\n",
       "      <td>Dutch</td>\n",
       "      <td>Vincent Willem van Gogh (Dutch: [ˈvɪnsɛnt ˈʋɪl...</td>\n",
       "      <td>http://en.wikipedia.org/wiki/Vincent_van_Gogh</td>\n",
       "      <td>877</td>\n",
       "    </tr>\n",
       "    <tr>\n",
       "      <th>9</th>\n",
       "      <td>9</td>\n",
       "      <td>Gustav Klimt</td>\n",
       "      <td>1862 - 1918</td>\n",
       "      <td>Symbolism,Art Nouveau</td>\n",
       "      <td>Austrian</td>\n",
       "      <td>Gustav Klimt (July 14, 1862 – February 6, 1918...</td>\n",
       "      <td>http://en.wikipedia.org/wiki/Gustav_Klimt</td>\n",
       "      <td>117</td>\n",
       "    </tr>\n",
       "  </tbody>\n",
       "</table>\n",
       "</div>"
      ],
      "text/plain": [
       "   id  ... paintings\n",
       "0   0  ...       193\n",
       "1   1  ...        88\n",
       "2   2  ...        70\n",
       "3   3  ...        73\n",
       "4   4  ...       194\n",
       "5   5  ...       139\n",
       "6   6  ...        90\n",
       "7   7  ...        99\n",
       "8   8  ...       877\n",
       "9   9  ...       117\n",
       "\n",
       "[10 rows x 8 columns]"
      ]
     },
     "execution_count": 3,
     "metadata": {
      "tags": []
     },
     "output_type": "execute_result"
    }
   ],
   "source": [
    "artist_data = pd.read_csv(\"drive/MyDrive/artists/artists.csv\")\n",
    "artist_data[:10]\n"
   ]
  },
  {
   "cell_type": "code",
   "execution_count": null,
   "id": "47d7ed93",
   "metadata": {
    "colab": {
     "base_uri": "https://localhost:8080/"
    },
    "id": "pIe4ht-GVxYk",
    "outputId": "bac470ee-cc18-49a7-d5ad-9ba1cc874c45"
   },
   "outputs": [
    {
     "data": {
      "text/plain": [
       "0             Amedeo Modigliani\n",
       "1            Vasiliy Kandinskiy\n",
       "2                  Diego Rivera\n",
       "3                  Claude Monet\n",
       "4                 Rene Magritte\n",
       "5                 Salvador Dali\n",
       "6                 Edouard Manet\n",
       "7                 Andrei Rublev\n",
       "8              Vincent van Gogh\n",
       "9                  Gustav Klimt\n",
       "10             Hieronymus Bosch\n",
       "11             Kazimir Malevich\n",
       "12               Mikhail Vrubel\n",
       "13                Pablo Picasso\n",
       "14            Peter Paul Rubens\n",
       "15        Pierre-Auguste Renoir\n",
       "16               Francisco Goya\n",
       "17                  Frida Kahlo\n",
       "18                     El Greco\n",
       "19               Albrecht Dürer\n",
       "20                Alfred Sisley\n",
       "21               Pieter Bruegel\n",
       "22                 Marc Chagall\n",
       "23            Giotto di Bondone\n",
       "24            Sandro Botticelli\n",
       "25                   Caravaggio\n",
       "26            Leonardo da Vinci\n",
       "27              Diego Velazquez\n",
       "28                Henri Matisse\n",
       "29                 Jan van Eyck\n",
       "30                  Edgar Degas\n",
       "31                    Rembrandt\n",
       "32                       Titian\n",
       "33    Henri de Toulouse-Lautrec\n",
       "34              Gustave Courbet\n",
       "35             Camille Pissarro\n",
       "36               William Turner\n",
       "37                 Edvard Munch\n",
       "38                 Paul Cezanne\n",
       "39             Eugene Delacroix\n",
       "40               Henri Rousseau\n",
       "41               Georges Seurat\n",
       "42                    Paul Klee\n",
       "43                Piet Mondrian\n",
       "44                    Joan Miro\n",
       "45                  Andy Warhol\n",
       "46                 Paul Gauguin\n",
       "47                      Raphael\n",
       "48                 Michelangelo\n",
       "49              Jackson Pollock\n",
       "Name: name, dtype: object"
      ]
     },
     "execution_count": 4,
     "metadata": {
      "tags": []
     },
     "output_type": "execute_result"
    }
   ],
   "source": [
    "artist_labels = artist_data['name']\n",
    "artist_labels"
   ]
  },
  {
   "cell_type": "code",
   "execution_count": null,
   "id": "c620ca5c",
   "metadata": {
    "colab": {
     "base_uri": "https://localhost:8080/",
     "height": 424
    },
    "id": "iLtd3wt7VxYl",
    "outputId": "8f4cf516-b48f-474e-b556-082d752a6a48"
   },
   "outputs": [
    {
     "data": {
      "text/html": [
       "<div>\n",
       "<style scoped>\n",
       "    .dataframe tbody tr th:only-of-type {\n",
       "        vertical-align: middle;\n",
       "    }\n",
       "\n",
       "    .dataframe tbody tr th {\n",
       "        vertical-align: top;\n",
       "    }\n",
       "\n",
       "    .dataframe thead th {\n",
       "        text-align: right;\n",
       "    }\n",
       "</style>\n",
       "<table border=\"1\" class=\"dataframe\">\n",
       "  <thead>\n",
       "    <tr style=\"text-align: right;\">\n",
       "      <th></th>\n",
       "      <th>filename</th>\n",
       "      <th>class</th>\n",
       "    </tr>\n",
       "  </thead>\n",
       "  <tbody>\n",
       "    <tr>\n",
       "      <th>0</th>\n",
       "      <td>images/Andrei_Rublev/Andrei_Rublev_53.jpg</td>\n",
       "      <td>Andrei_Rublev</td>\n",
       "    </tr>\n",
       "    <tr>\n",
       "      <th>1</th>\n",
       "      <td>images/Andrei_Rublev/Andrei_Rublev_52.jpg</td>\n",
       "      <td>Andrei_Rublev</td>\n",
       "    </tr>\n",
       "    <tr>\n",
       "      <th>2</th>\n",
       "      <td>images/Andrei_Rublev/Andrei_Rublev_13.jpg</td>\n",
       "      <td>Andrei_Rublev</td>\n",
       "    </tr>\n",
       "    <tr>\n",
       "      <th>3</th>\n",
       "      <td>images/Andrei_Rublev/Andrei_Rublev_80.jpg</td>\n",
       "      <td>Andrei_Rublev</td>\n",
       "    </tr>\n",
       "    <tr>\n",
       "      <th>4</th>\n",
       "      <td>images/Andrei_Rublev/Andrei_Rublev_77.jpg</td>\n",
       "      <td>Andrei_Rublev</td>\n",
       "    </tr>\n",
       "    <tr>\n",
       "      <th>...</th>\n",
       "      <td>...</td>\n",
       "      <td>...</td>\n",
       "    </tr>\n",
       "    <tr>\n",
       "      <th>8491</th>\n",
       "      <td>images/Vasiliy_Kandinskiy/Vasiliy_Kandinskiy_6...</td>\n",
       "      <td>Vasiliy_Kandinskiy</td>\n",
       "    </tr>\n",
       "    <tr>\n",
       "      <th>8492</th>\n",
       "      <td>images/Vasiliy_Kandinskiy/Vasiliy_Kandinskiy_7...</td>\n",
       "      <td>Vasiliy_Kandinskiy</td>\n",
       "    </tr>\n",
       "    <tr>\n",
       "      <th>8493</th>\n",
       "      <td>images/Vasiliy_Kandinskiy/Vasiliy_Kandinskiy_2...</td>\n",
       "      <td>Vasiliy_Kandinskiy</td>\n",
       "    </tr>\n",
       "    <tr>\n",
       "      <th>8494</th>\n",
       "      <td>images/Vasiliy_Kandinskiy/Vasiliy_Kandinskiy_8...</td>\n",
       "      <td>Vasiliy_Kandinskiy</td>\n",
       "    </tr>\n",
       "    <tr>\n",
       "      <th>8495</th>\n",
       "      <td>images/Vasiliy_Kandinskiy/Vasiliy_Kandinskiy_5...</td>\n",
       "      <td>Vasiliy_Kandinskiy</td>\n",
       "    </tr>\n",
       "  </tbody>\n",
       "</table>\n",
       "<p>8496 rows × 2 columns</p>\n",
       "</div>"
      ],
      "text/plain": [
       "                                               filename               class\n",
       "0             images/Andrei_Rublev/Andrei_Rublev_53.jpg       Andrei_Rublev\n",
       "1             images/Andrei_Rublev/Andrei_Rublev_52.jpg       Andrei_Rublev\n",
       "2             images/Andrei_Rublev/Andrei_Rublev_13.jpg       Andrei_Rublev\n",
       "3             images/Andrei_Rublev/Andrei_Rublev_80.jpg       Andrei_Rublev\n",
       "4             images/Andrei_Rublev/Andrei_Rublev_77.jpg       Andrei_Rublev\n",
       "...                                                 ...                 ...\n",
       "8491  images/Vasiliy_Kandinskiy/Vasiliy_Kandinskiy_6...  Vasiliy_Kandinskiy\n",
       "8492  images/Vasiliy_Kandinskiy/Vasiliy_Kandinskiy_7...  Vasiliy_Kandinskiy\n",
       "8493  images/Vasiliy_Kandinskiy/Vasiliy_Kandinskiy_2...  Vasiliy_Kandinskiy\n",
       "8494  images/Vasiliy_Kandinskiy/Vasiliy_Kandinskiy_8...  Vasiliy_Kandinskiy\n",
       "8495  images/Vasiliy_Kandinskiy/Vasiliy_Kandinskiy_5...  Vasiliy_Kandinskiy\n",
       "\n",
       "[8496 rows x 2 columns]"
      ]
     },
     "execution_count": 5,
     "metadata": {
      "tags": []
     },
     "output_type": "execute_result"
    }
   ],
   "source": [
    "imgs = \"images/\"\n",
    "\n",
    "idic = {\"filename\":[], \"class\":[]}\n",
    "for fol in os.listdir(imgs):\n",
    "    if fol.startswith(\".\"):\n",
    "        continue\n",
    "    for p in os.listdir(imgs + fol):\n",
    "        if p.startswith(\".\"):\n",
    "            continue\n",
    "        idic[\"filename\"].append(imgs + fol + \"/\" + p)\n",
    "        idic[\"class\"].append(fol)\n",
    "data = pd.DataFrame.from_dict(idic)\n",
    "\n",
    "data\n"
   ]
  },
  {
   "cell_type": "markdown",
   "id": "00d14ba4",
   "metadata": {
    "id": "gnL8EsPAVxYm"
   },
   "source": [
    "probably should plot some stuff too"
   ]
  },
  {
   "cell_type": "code",
   "execution_count": null,
   "id": "19d70ee9",
   "metadata": {
    "colab": {
     "base_uri": "https://localhost:8080/",
     "height": 297
    },
    "id": "_1k9qymSVxYm",
    "outputId": "9b51db70-367a-419c-c846-bffa64baf677"
   },
   "outputs": [
    {
     "data": {
      "text/plain": [
       "<matplotlib.axes._subplots.AxesSubplot at 0x7f34e2948e50>"
      ]
     },
     "execution_count": 6,
     "metadata": {
      "tags": []
     },
     "output_type": "execute_result"
    },
    {
     "data": {
      "image/png": "[encoded data removed]",
      "text/plain": [
       "<Figure size 432x288 with 1 Axes>"
      ]
     },
     "metadata": {
      "needs_background": "light",
      "tags": []
     },
     "output_type": "display_data"
    }
   ],
   "source": [
    "sns.barplot(data=artist_data, x=\"name\", y=\"paintings\")"
   ]
  },
  {
   "cell_type": "markdown",
   "id": "e5073e47",
   "metadata": {
    "id": "qERXuPd1VxYp"
   },
   "source": [
    "Training Models"
   ]
  },
  {
   "cell_type": "code",
   "execution_count": null,
   "id": "166c8e44",
   "metadata": {
    "colab": {
     "base_uri": "https://localhost:8080/"
    },
    "id": "bd26PxtVDpTs",
    "outputId": "f666258a-39e3-4c6a-a376-679a10442d95"
   },
   "outputs": [
    {
     "name": "stdout",
     "output_type": "stream",
     "text": [
      "(5947, 2) (1274, 2) (1275, 2)\n",
      "Found 5909 validated image filenames belonging to 50 classes.\n",
      "Found 1270 validated image filenames belonging to 50 classes.\n"
     ]
    },
    {
     "name": "stderr",
     "output_type": "stream",
     "text": [
      "/usr/local/lib/python3.7/dist-packages/keras_preprocessing/image/dataframe_iterator.py:282: UserWarning: Found 38 invalid image filename(s) in x_col=\"filename\". These filename(s) will be ignored.\n",
      "  .format(n_invalid, x_col)\n",
      "/usr/local/lib/python3.7/dist-packages/keras_preprocessing/image/dataframe_iterator.py:282: UserWarning: Found 5 invalid image filename(s) in x_col=\"filename\". These filename(s) will be ignored.\n",
      "  .format(n_invalid, x_col)\n"
     ]
    }
   ],
   "source": [
    "batch_size = 64\n",
    "input_shape = (240, 240, 3)\n",
    "\n",
    "epochs = 20\n",
    "steps = 64\n",
    "num_classes = 50 # current number of artists in the dataset we're using\n",
    "\n",
    "train, teva = train_test_split(data, test_size=.3)\n",
    "test, val = train_test_split(teva, test_size = .5)\n",
    "print(train.shape, test.shape, val.shape)\n",
    "train_datagen= ImageDataGenerator(rescale=1./255,\n",
    "        shear_range=0.2,\n",
    "        zoom_range=0.2,\n",
    "        horizontal_flip=True,\n",
    "        rotation_range=30,\n",
    "        width_shift_range=.1,\n",
    "        height_shift_range=.1,\n",
    "        vertical_flip=False,\n",
    "        )\n",
    "\n",
    "train_datagen = train_datagen.flow_from_dataframe(train,\n",
    "        target_size=(240, 240),\n",
    "        batch_size=batch_size,\n",
    "        class_mode='categorical')\n",
    "val_datagen = ImageDataGenerator(rescale=1./255)\n",
    "\n",
    "val_datagen = val_datagen.flow_from_dataframe(val, target_size=(240, 240),\n",
    "        batch_size=batch_size,\n",
    "        class_mode='categorical')\n",
    "\n",
    "\n"
   ]
  },
  {
   "cell_type": "code",
   "execution_count": null,
   "id": "842d26a6",
   "metadata": {
    "colab": {
     "base_uri": "https://localhost:8080/"
    },
    "id": "C9VgiwtcNWfM",
    "outputId": "d43f8845-d17e-4d9d-b40b-7015815f0096"
   },
   "outputs": [
    {
     "name": "stdout",
     "output_type": "stream",
     "text": [
      "Found 1267 validated image filenames belonging to 50 classes.\n"
     ]
    },
    {
     "name": "stderr",
     "output_type": "stream",
     "text": [
      "/usr/local/lib/python3.7/dist-packages/keras_preprocessing/image/dataframe_iterator.py:282: UserWarning: Found 7 invalid image filename(s) in x_col=\"filename\". These filename(s) will be ignored.\n",
      "  .format(n_invalid, x_col)\n"
     ]
    }
   ],
   "source": [
    "test_datagen = ImageDataGenerator(rescale=1./255)\n",
    "test_datagen = test_datagen.flow_from_dataframe(test, target_size=(240, 240))"
   ]
  },
  {
   "cell_type": "code",
   "execution_count": null,
   "id": "0f448f86",
   "metadata": {
    "id": "6GUX8ASrVxYo"
   },
   "outputs": [],
   "source": [
    "\n",
    "\n",
    "def make_basic_model():\n",
    "    \"\"\"\n",
    "    Model with a super basic architecture, probably not that great for this, but it's a start\n",
    "    adapted from faces classifier from HW 3, which was adapted from: https://keras.io/examples/vision/mnist_convnet/\n",
    "    \"\"\"\n",
    "    model = Sequential(\n",
    "        [\n",
    "            layers.Conv2D(32, kernel_size=(3, 3), activation='relu', input_shape=input_shape),\n",
    "            layers.MaxPooling2D(pool_size=(2, 2)),\n",
    "            \n",
    "            layers.Conv2D(64, kernel_size=(3, 3), activation='relu'),\n",
    "            layers.MaxPooling2D(pool_size=(2, 2)),\n",
    "            \n",
    "            layers.Flatten(),\n",
    "            layers.Dropout(0.5),\n",
    "            layers.Dense(num_classes, activation=\"softmax\"),\n",
    "\n",
    "        ]\n",
    "    )\n",
    "    \n",
    "    return model\n",
    "    \n",
    "    "
   ]
  },
  {
   "cell_type": "code",
   "execution_count": null,
   "id": "d0ffec45",
   "metadata": {
    "colab": {
     "base_uri": "https://localhost:8080/"
    },
    "id": "qSRncaC-VxYr",
    "outputId": "ef934a31-f9d9-48fb-f895-d40640cac6c1"
   },
   "outputs": [
    {
     "name": "stdout",
     "output_type": "stream",
     "text": [
      "Model: \"sequential_1\"\n",
      "_________________________________________________________________\n",
      "Layer (type)                 Output Shape              Param #   \n",
      "=================================================================\n",
      "conv2d_2 (Conv2D)            (None, 238, 238, 32)      896       \n",
      "_________________________________________________________________\n",
      "max_pooling2d_2 (MaxPooling2 (None, 119, 119, 32)      0         \n",
      "_________________________________________________________________\n",
      "conv2d_3 (Conv2D)            (None, 117, 117, 64)      18496     \n",
      "_________________________________________________________________\n",
      "max_pooling2d_3 (MaxPooling2 (None, 58, 58, 64)        0         \n",
      "_________________________________________________________________\n",
      "flatten_1 (Flatten)          (None, 215296)            0         \n",
      "_________________________________________________________________\n",
      "dropout_1 (Dropout)          (None, 215296)            0         \n",
      "_________________________________________________________________\n",
      "dense_1 (Dense)              (None, 50)                10764850  \n",
      "=================================================================\n",
      "Total params: 10,784,242\n",
      "Trainable params: 10,784,242\n",
      "Non-trainable params: 0\n",
      "_________________________________________________________________\n"
     ]
    },
    {
     "name": "stderr",
     "output_type": "stream",
     "text": [
      "/usr/local/lib/python3.7/dist-packages/keras/engine/training.py:1915: UserWarning: `Model.fit_generator` is deprecated and will be removed in a future version. Please use `Model.fit`, which supports generators.\n",
      "  warnings.warn('`Model.fit_generator` is deprecated and '\n"
     ]
    },
    {
     "name": "stdout",
     "output_type": "stream",
     "text": [
      "Epoch 1/20\n",
      "32/32 [==============================] - 101s 2s/step - loss: 5.9306 - accuracy: 0.0799 - val_loss: 3.5252 - val_accuracy: 0.1660\n",
      "Epoch 2/20\n",
      "32/32 [==============================] - 56s 2s/step - loss: 3.3193 - accuracy: 0.1961 - val_loss: 3.2605 - val_accuracy: 0.1816\n",
      "Epoch 3/20\n",
      "32/32 [==============================] - 56s 1s/step - loss: 3.1270 - accuracy: 0.1971 - val_loss: 3.1000 - val_accuracy: 0.2012\n",
      "Epoch 4/20\n",
      "32/32 [==============================] - 63s 2s/step - loss: 3.0271 - accuracy: 0.2132 - val_loss: 3.1216 - val_accuracy: 0.2246\n",
      "Epoch 5/20\n",
      "32/32 [==============================] - 62s 1s/step - loss: 2.8816 - accuracy: 0.2424 - val_loss: 3.0329 - val_accuracy: 0.2344\n",
      "Epoch 6/20\n",
      "32/32 [==============================] - 55s 1s/step - loss: 2.8161 - accuracy: 0.2573 - val_loss: 3.3259 - val_accuracy: 0.2227\n",
      "Epoch 7/20\n",
      "32/32 [==============================] - 56s 2s/step - loss: 2.7323 - accuracy: 0.2740 - val_loss: 3.1505 - val_accuracy: 0.2598\n",
      "Epoch 8/20\n",
      "32/32 [==============================] - 62s 1s/step - loss: 2.6790 - accuracy: 0.2758 - val_loss: 2.9332 - val_accuracy: 0.2617\n",
      "Epoch 9/20\n",
      "32/32 [==============================] - 63s 1s/step - loss: 2.6088 - accuracy: 0.3048 - val_loss: 3.5312 - val_accuracy: 0.2090\n",
      "Epoch 10/20\n",
      "32/32 [==============================] - 63s 1s/step - loss: 2.6323 - accuracy: 0.2850 - val_loss: 2.8864 - val_accuracy: 0.2656\n",
      "Epoch 11/20\n",
      "32/32 [==============================] - 55s 1s/step - loss: 2.5393 - accuracy: 0.3131 - val_loss: 2.9691 - val_accuracy: 0.2539\n",
      "Epoch 12/20\n",
      "32/32 [==============================] - 62s 1s/step - loss: 2.4301 - accuracy: 0.3375 - val_loss: 2.7752 - val_accuracy: 0.2871\n",
      "Epoch 13/20\n",
      "32/32 [==============================] - 61s 1s/step - loss: 2.5144 - accuracy: 0.3083 - val_loss: 2.8460 - val_accuracy: 0.3164\n",
      "Epoch 14/20\n",
      "32/32 [==============================] - 64s 2s/step - loss: 2.4768 - accuracy: 0.3440 - val_loss: 3.1189 - val_accuracy: 0.2715\n",
      "Epoch 15/20\n",
      "32/32 [==============================] - 64s 1s/step - loss: 2.4088 - accuracy: 0.3470 - val_loss: 2.8309 - val_accuracy: 0.3145\n",
      "Epoch 16/20\n",
      "32/32 [==============================] - 55s 1s/step - loss: 2.4651 - accuracy: 0.3395 - val_loss: 2.8898 - val_accuracy: 0.2969\n",
      "Epoch 17/20\n",
      "32/32 [==============================] - 61s 1s/step - loss: 2.3909 - accuracy: 0.3395 - val_loss: 2.7264 - val_accuracy: 0.2852\n",
      "Epoch 18/20\n",
      "32/32 [==============================] - 63s 1s/step - loss: 2.4379 - accuracy: 0.3233 - val_loss: 2.5726 - val_accuracy: 0.3145\n",
      "Epoch 19/20\n",
      "32/32 [==============================] - 56s 1s/step - loss: 2.2927 - accuracy: 0.3660 - val_loss: 2.8011 - val_accuracy: 0.3242\n",
      "Epoch 20/20\n",
      "32/32 [==============================] - 63s 1s/step - loss: 2.3539 - accuracy: 0.3664 - val_loss: 2.6464 - val_accuracy: 0.3203\n"
     ]
    },
    {
     "data": {
      "text/plain": [
       "<keras.callbacks.History at 0x7f34d031fa10>"
      ]
     },
     "execution_count": 13,
     "metadata": {
      "tags": []
     },
     "output_type": "execute_result"
    }
   ],
   "source": [
    "\n",
    "model = Sequential(\n",
    "        [\n",
    "            layers.Conv2D(32, kernel_size=(3, 3), activation='relu', input_shape=input_shape),\n",
    "            layers.MaxPooling2D(pool_size=(2, 2)),\n",
    "            \n",
    "            layers.Conv2D(64, kernel_size=(3, 3), activation='relu'),\n",
    "            layers.MaxPooling2D(pool_size=(2, 2)),\n",
    "            \n",
    "            layers.Flatten(),\n",
    "            layers.Dropout(0.5),\n",
    "            layers.Dense(num_classes, activation=\"softmax\"),\n",
    "\n",
    "        ]\n",
    "    )\n",
    "model.summary()\n",
    "model.compile(optimizer='adam', loss=\"categorical_crossentropy\", metrics=[\"accuracy\"])\n",
    "model.fit_generator(train_datagen, steps_per_epoch=32, epochs=epochs, workers=8, validation_data=val_datagen, validation_steps=8)\n",
    "\n"
   ]
  },
  {
   "cell_type": "code",
   "execution_count": null,
   "id": "df7ad5a6",
   "metadata": {
    "id": "jEfEfJG-VxYp"
   },
   "outputs": [],
   "source": [
    "def widenet_model():\n",
    "    \"\"\"\n",
    "    Model with a somewhat more interesting and hopefully better architecture\n",
    "    \"\"\"\n",
    "    \n",
    "    model = Sequential(\n",
    "        [\n",
    "            layers.Conv2D(128, kernel_size=(5,5), activation='relu', input_shape=input_shape),\n",
    "            layers.MaxPooling2D(pool_size=(2, 2)),\n",
    "            \n",
    "            layers.Conv2D(256, kernel_size=(3,3), activation='relu'),\n",
    "            layers.MaxPooling2D(pool_size=(2, 2)),\n",
    "            \n",
    "            \n",
    "            layers.Flatten(),\n",
    "            layers.Dropout(0.5),\n",
    "            layers.Dense(num_classes, activation=\"softmax\"),\n",
    "            \n",
    "        ]\n",
    "        \n",
    "    ) \n",
    "    \n",
    "    return model\n",
    "    "
   ]
  },
  {
   "cell_type": "code",
   "execution_count": null,
   "id": "66497c74",
   "metadata": {
    "colab": {
     "base_uri": "https://localhost:8080/"
    },
    "id": "CtzFtL-Wqz_-",
    "outputId": "bc0f8362-d378-4873-d657-d08966dea815"
   },
   "outputs": [
    {
     "name": "stdout",
     "output_type": "stream",
     "text": [
      "Model: \"sequential_7\"\n",
      "_________________________________________________________________\n",
      "Layer (type)                 Output Shape              Param #   \n",
      "=================================================================\n",
      "conv2d_24 (Conv2D)           (None, 236, 236, 128)     9728      \n",
      "_________________________________________________________________\n",
      "max_pooling2d_20 (MaxPooling (None, 118, 118, 128)     0         \n",
      "_________________________________________________________________\n",
      "conv2d_25 (Conv2D)           (None, 116, 116, 256)     295168    \n",
      "_________________________________________________________________\n",
      "max_pooling2d_21 (MaxPooling (None, 58, 58, 256)       0         \n",
      "_________________________________________________________________\n",
      "flatten_7 (Flatten)          (None, 861184)            0         \n",
      "_________________________________________________________________\n",
      "dropout_8 (Dropout)          (None, 861184)            0         \n",
      "_________________________________________________________________\n",
      "dense_10 (Dense)             (None, 50)                43059250  \n",
      "=================================================================\n",
      "Total params: 43,364,146\n",
      "Trainable params: 43,364,146\n",
      "Non-trainable params: 0\n",
      "_________________________________________________________________\n",
      "Epoch 1/20\n",
      "64/64 [==============================] - 105s 1s/step - loss: 5.4475 - accuracy: 0.0881 - val_loss: 3.5505 - val_accuracy: 0.0977\n",
      "Epoch 2/20\n",
      "64/64 [==============================] - 103s 1s/step - loss: 3.3800 - accuracy: 0.1482 - val_loss: 3.1858 - val_accuracy: 0.1914\n",
      "Epoch 3/20\n",
      "64/64 [==============================] - 101s 1s/step - loss: 3.1754 - accuracy: 0.1812 - val_loss: 3.1522 - val_accuracy: 0.1719\n",
      "Epoch 4/20\n",
      "64/64 [==============================] - 105s 1s/step - loss: 3.0014 - accuracy: 0.2170 - val_loss: 3.2307 - val_accuracy: 0.2246\n",
      "Epoch 5/20\n",
      "64/64 [==============================] - 104s 1s/step - loss: 2.8287 - accuracy: 0.2494 - val_loss: 3.0458 - val_accuracy: 0.2578\n",
      "Epoch 6/20\n",
      "64/64 [==============================] - 106s 1s/step - loss: 2.8110 - accuracy: 0.2718 - val_loss: 2.9417 - val_accuracy: 0.2559\n",
      "Epoch 7/20\n",
      "64/64 [==============================] - 105s 1s/step - loss: 2.6823 - accuracy: 0.2858 - val_loss: 2.8444 - val_accuracy: 0.2578\n",
      "Epoch 8/20\n",
      "64/64 [==============================] - 98s 1s/step - loss: 2.6491 - accuracy: 0.2913 - val_loss: 2.8765 - val_accuracy: 0.2891\n",
      "Epoch 9/20\n",
      "64/64 [==============================] - 98s 1s/step - loss: 2.6438 - accuracy: 0.2969 - val_loss: 2.8784 - val_accuracy: 0.2656\n",
      "Epoch 10/20\n",
      "64/64 [==============================] - 97s 1s/step - loss: 2.5588 - accuracy: 0.3136 - val_loss: 2.8294 - val_accuracy: 0.2734\n",
      "Epoch 11/20\n",
      "64/64 [==============================] - 106s 1s/step - loss: 2.5399 - accuracy: 0.3109 - val_loss: 2.6275 - val_accuracy: 0.3105\n",
      "Epoch 12/20\n",
      "64/64 [==============================] - 98s 1s/step - loss: 2.4753 - accuracy: 0.3271 - val_loss: 2.5617 - val_accuracy: 0.3438\n",
      "Epoch 13/20\n",
      "64/64 [==============================] - 104s 1s/step - loss: 2.4269 - accuracy: 0.3447 - val_loss: 2.6377 - val_accuracy: 0.3398\n",
      "Epoch 14/20\n",
      "64/64 [==============================] - 107s 1s/step - loss: 2.3508 - accuracy: 0.3545 - val_loss: 2.6222 - val_accuracy: 0.3379\n",
      "Epoch 15/20\n",
      "64/64 [==============================] - 103s 1s/step - loss: 2.4565 - accuracy: 0.3289 - val_loss: 2.5983 - val_accuracy: 0.3145\n",
      "Epoch 16/20\n",
      "64/64 [==============================] - 99s 1s/step - loss: 2.3821 - accuracy: 0.3608 - val_loss: 2.6324 - val_accuracy: 0.3574\n",
      "Epoch 17/20\n",
      "64/64 [==============================] - 103s 1s/step - loss: 2.3377 - accuracy: 0.3680 - val_loss: 2.7196 - val_accuracy: 0.3418\n",
      "Epoch 18/20\n",
      "64/64 [==============================] - 98s 1s/step - loss: 2.3187 - accuracy: 0.3679 - val_loss: 2.5974 - val_accuracy: 0.3203\n",
      "Epoch 19/20\n",
      "64/64 [==============================] - 102s 1s/step - loss: 2.2959 - accuracy: 0.3811 - val_loss: 2.5676 - val_accuracy: 0.3535\n",
      "Epoch 20/20\n",
      "64/64 [==============================] - 98s 1s/step - loss: 2.2809 - accuracy: 0.3640 - val_loss: 2.5605 - val_accuracy: 0.3457\n"
     ]
    },
    {
     "data": {
      "text/plain": [
       "<keras.callbacks.History at 0x7f3468dbae10>"
      ]
     },
     "execution_count": 45,
     "metadata": {
      "tags": []
     },
     "output_type": "execute_result"
    }
   ],
   "source": [
    "widenet_model = widenet_model()\n",
    "widenet_model.summary()\n",
    "\n",
    "widenet_model.compile(optimizer='adam', loss=\"categorical_crossentropy\", metrics=[\"accuracy\"])\n",
    "widenet_model.fit(train_datagen, steps_per_epoch=steps, epochs=epochs, validation_data=val_datagen, validation_steps=8, workers=8)"
   ]
  },
  {
   "cell_type": "code",
   "execution_count": null,
   "id": "1432c527",
   "metadata": {
    "id": "PkaIevx-D2lr"
   },
   "outputs": [],
   "source": [
    "def bigger_kernel_model():\n",
    "    \"\"\"\n",
    "    This model has more, and bigger filters. We're thinking this will help to find more broad attributes of the paintings.\n",
    "    Also each layer has a ton of nodes later on\n",
    "    \"\"\"\n",
    "    \n",
    "    model = Sequential(\n",
    "        [\n",
    "            layers.Conv2D(32, kernel_size=(8,8), activation='relu', input_shape=input_shape),\n",
    "            layers.MaxPooling2D(pool_size=(2, 2)),\n",
    "            \n",
    "            layers.Conv2D(64, kernel_size=(6,6), activation='relu'),\n",
    "            layers.MaxPooling2D(pool_size=(2, 2)),\n",
    "            \n",
    "            layers.Conv2D(128, kernel_size=(4,4), activation='relu'),\n",
    "            layers.MaxPooling2D(pool_size=(2, 2)),\n",
    "            \n",
    "            layers.Conv2D(256, kernel_size=(3,3), activation='relu'),\n",
    "            layers.MaxPooling2D(pool_size=(2, 2)),\n",
    "           \n",
    "            layers.Flatten(),\n",
    "            layers.Dropout(0.5),\n",
    "            layers.Dense(num_classes, activation=\"softmax\"),\n",
    "            \n",
    "        ]\n",
    "        \n",
    "    ) \n",
    "    \n",
    "    return model"
   ]
  },
  {
   "cell_type": "code",
   "execution_count": null,
   "id": "ab23169d",
   "metadata": {
    "colab": {
     "base_uri": "https://localhost:8080/"
    },
    "id": "QMstbGktD2UC",
    "outputId": "1ad296cb-9dae-4623-9c0f-da7f28a973c2"
   },
   "outputs": [
    {
     "name": "stdout",
     "output_type": "stream",
     "text": [
      "Model: \"sequential_4\"\n",
      "_________________________________________________________________\n",
      "Layer (type)                 Output Shape              Param #   \n",
      "=================================================================\n",
      "conv2d_10 (Conv2D)           (None, 233, 233, 32)      6176      \n",
      "_________________________________________________________________\n",
      "max_pooling2d_10 (MaxPooling (None, 116, 116, 32)      0         \n",
      "_________________________________________________________________\n",
      "conv2d_11 (Conv2D)           (None, 111, 111, 64)      73792     \n",
      "_________________________________________________________________\n",
      "max_pooling2d_11 (MaxPooling (None, 55, 55, 64)        0         \n",
      "_________________________________________________________________\n",
      "conv2d_12 (Conv2D)           (None, 52, 52, 128)       131200    \n",
      "_________________________________________________________________\n",
      "max_pooling2d_12 (MaxPooling (None, 26, 26, 128)       0         \n",
      "_________________________________________________________________\n",
      "conv2d_13 (Conv2D)           (None, 24, 24, 256)       295168    \n",
      "_________________________________________________________________\n",
      "max_pooling2d_13 (MaxPooling (None, 12, 12, 256)       0         \n",
      "_________________________________________________________________\n",
      "flatten_4 (Flatten)          (None, 36864)             0         \n",
      "_________________________________________________________________\n",
      "dropout_4 (Dropout)          (None, 36864)             0         \n",
      "_________________________________________________________________\n",
      "dense_5 (Dense)              (None, 50)                1843250   \n",
      "=================================================================\n",
      "Total params: 2,349,586\n",
      "Trainable params: 2,349,586\n",
      "Non-trainable params: 0\n",
      "_________________________________________________________________\n",
      "Epoch 1/20\n",
      "32/32 [==============================] - 63s 2s/step - loss: 3.8011 - accuracy: 0.0730 - val_loss: 3.5935 - val_accuracy: 0.0840\n",
      "Epoch 2/20\n",
      "32/32 [==============================] - 60s 1s/step - loss: 3.5452 - accuracy: 0.1161 - val_loss: 3.4124 - val_accuracy: 0.1348\n",
      "Epoch 3/20\n",
      "32/32 [==============================] - 56s 1s/step - loss: 3.3266 - accuracy: 0.1692 - val_loss: 3.3071 - val_accuracy: 0.1406\n",
      "Epoch 4/20\n",
      "32/32 [==============================] - 55s 1s/step - loss: 3.1932 - accuracy: 0.1713 - val_loss: 3.3280 - val_accuracy: 0.1387\n",
      "Epoch 5/20\n",
      "32/32 [==============================] - 65s 1s/step - loss: 3.1877 - accuracy: 0.1736 - val_loss: 3.3000 - val_accuracy: 0.1680\n",
      "Epoch 6/20\n",
      "32/32 [==============================] - 65s 2s/step - loss: 3.1955 - accuracy: 0.1794 - val_loss: 3.1645 - val_accuracy: 0.1719\n",
      "Epoch 7/20\n",
      "32/32 [==============================] - 62s 1s/step - loss: 3.1271 - accuracy: 0.1711 - val_loss: 3.1155 - val_accuracy: 0.1641\n",
      "Epoch 8/20\n",
      "32/32 [==============================] - 64s 2s/step - loss: 3.0696 - accuracy: 0.2041 - val_loss: 3.1827 - val_accuracy: 0.1875\n",
      "Epoch 9/20\n",
      "32/32 [==============================] - 63s 1s/step - loss: 3.0645 - accuracy: 0.1864 - val_loss: 3.0686 - val_accuracy: 0.1777\n",
      "Epoch 10/20\n",
      "32/32 [==============================] - 60s 1s/step - loss: 2.9599 - accuracy: 0.2337 - val_loss: 3.0844 - val_accuracy: 0.2129\n",
      "Epoch 11/20\n",
      "32/32 [==============================] - 62s 1s/step - loss: 2.8374 - accuracy: 0.2595 - val_loss: 3.2423 - val_accuracy: 0.2168\n",
      "Epoch 12/20\n",
      "32/32 [==============================] - 62s 1s/step - loss: 2.8747 - accuracy: 0.2358 - val_loss: 3.0591 - val_accuracy: 0.2148\n",
      "Epoch 13/20\n",
      "32/32 [==============================] - 64s 1s/step - loss: 2.8229 - accuracy: 0.2463 - val_loss: 2.9494 - val_accuracy: 0.2188\n",
      "Epoch 14/20\n",
      "32/32 [==============================] - 54s 1s/step - loss: 2.7994 - accuracy: 0.2469 - val_loss: 2.8893 - val_accuracy: 0.2148\n",
      "Epoch 15/20\n",
      "32/32 [==============================] - 62s 1s/step - loss: 2.7302 - accuracy: 0.2711 - val_loss: 2.8903 - val_accuracy: 0.2500\n",
      "Epoch 16/20\n",
      "32/32 [==============================] - 61s 1s/step - loss: 2.7154 - accuracy: 0.2872 - val_loss: 2.9427 - val_accuracy: 0.2285\n",
      "Epoch 17/20\n",
      "32/32 [==============================] - 62s 1s/step - loss: 2.7343 - accuracy: 0.2594 - val_loss: 2.8335 - val_accuracy: 0.2676\n",
      "Epoch 18/20\n",
      "32/32 [==============================] - 63s 1s/step - loss: 2.6399 - accuracy: 0.2876 - val_loss: 2.8411 - val_accuracy: 0.2891\n",
      "Epoch 19/20\n",
      "32/32 [==============================] - 54s 1s/step - loss: 2.5491 - accuracy: 0.3160 - val_loss: 2.8672 - val_accuracy: 0.2500\n",
      "Epoch 20/20\n",
      "32/32 [==============================] - 63s 1s/step - loss: 2.6430 - accuracy: 0.2823 - val_loss: 2.8601 - val_accuracy: 0.2715\n"
     ]
    },
    {
     "data": {
      "text/plain": [
       "<keras.callbacks.History at 0x7f34832c3f10>"
      ]
     },
     "execution_count": 20,
     "metadata": {
      "tags": []
     },
     "output_type": "execute_result"
    }
   ],
   "source": [
    "big_model = bigger_kernel_model()\n",
    "big_model.summary()\n",
    "\n",
    "big_model.compile(optimizer='adam', loss=\"categorical_crossentropy\", metrics=[\"accuracy\"])\n",
    "big_model.fit(train_datagen, steps_per_epoch=64, epochs=epochs, validation_data=val_datagen, validation_steps=8, workers=8)"
   ]
  },
  {
   "cell_type": "code",
   "execution_count": 46,
   "id": "e8642fb2",
   "metadata": {
    "colab": {
     "base_uri": "https://localhost:8080/"
    },
    "id": "ZtEm44UMR9uW",
    "outputId": "de2b4dff-f1b1-4dd8-aa68-df44c85d0c5a"
   },
   "outputs": [
    {
     "name": "stdout",
     "output_type": "stream",
     "text": [
      "Model: \"sequential_8\"\n",
      "_________________________________________________________________\n",
      "Layer (type)                 Output Shape              Param #   \n",
      "=================================================================\n",
      "conv2d_26 (Conv2D)           (None, 236, 236, 32)      2432      \n",
      "_________________________________________________________________\n",
      "conv2d_27 (Conv2D)           (None, 234, 234, 32)      9248      \n",
      "_________________________________________________________________\n",
      "conv2d_28 (Conv2D)           (None, 234, 234, 32)      1056      \n",
      "_________________________________________________________________\n",
      "max_pooling2d_22 (MaxPooling (None, 117, 117, 32)      0         \n",
      "_________________________________________________________________\n",
      "conv2d_29 (Conv2D)           (None, 115, 115, 64)      18496     \n",
      "_________________________________________________________________\n",
      "conv2d_30 (Conv2D)           (None, 111, 111, 32)      51232     \n",
      "_________________________________________________________________\n",
      "max_pooling2d_23 (MaxPooling (None, 55, 55, 32)        0         \n",
      "_________________________________________________________________\n",
      "conv2d_31 (Conv2D)           (None, 53, 53, 64)        18496     \n",
      "_________________________________________________________________\n",
      "conv2d_32 (Conv2D)           (None, 49, 49, 32)        51232     \n",
      "_________________________________________________________________\n",
      "max_pooling2d_24 (MaxPooling (None, 24, 24, 32)        0         \n",
      "_________________________________________________________________\n",
      "conv2d_33 (Conv2D)           (None, 20, 20, 128)       102528    \n",
      "_________________________________________________________________\n",
      "max_pooling2d_25 (MaxPooling (None, 10, 10, 128)       0         \n",
      "_________________________________________________________________\n",
      "flatten_8 (Flatten)          (None, 12800)             0         \n",
      "_________________________________________________________________\n",
      "dropout_9 (Dropout)          (None, 12800)             0         \n",
      "_________________________________________________________________\n",
      "dense_11 (Dense)             (None, 128)               1638528   \n",
      "_________________________________________________________________\n",
      "dropout_10 (Dropout)         (None, 128)               0         \n",
      "_________________________________________________________________\n",
      "dense_12 (Dense)             (None, 64)                8256      \n",
      "_________________________________________________________________\n",
      "dense_13 (Dense)             (None, 50)                3250      \n",
      "=================================================================\n",
      "Total params: 1,904,754\n",
      "Trainable params: 1,904,754\n",
      "Non-trainable params: 0\n",
      "_________________________________________________________________\n",
      "Epoch 1/20\n",
      "64/64 [==============================] - 104s 1s/step - loss: 3.8337 - accuracy: 0.0887 - val_loss: 3.6592 - val_accuracy: 0.0859\n",
      "Epoch 2/20\n",
      "64/64 [==============================] - 104s 1s/step - loss: 3.6288 - accuracy: 0.1097 - val_loss: 3.6786 - val_accuracy: 0.0742\n",
      "Epoch 3/20\n",
      "64/64 [==============================] - 106s 1s/step - loss: 3.6265 - accuracy: 0.1029 - val_loss: 3.6045 - val_accuracy: 0.1094\n",
      "Epoch 4/20\n",
      "64/64 [==============================] - 105s 1s/step - loss: 3.5973 - accuracy: 0.1062 - val_loss: 3.5734 - val_accuracy: 0.1328\n",
      "Epoch 5/20\n",
      "64/64 [==============================] - 99s 1s/step - loss: 3.5472 - accuracy: 0.1178 - val_loss: 3.4465 - val_accuracy: 0.1387\n",
      "Epoch 6/20\n",
      "64/64 [==============================] - 105s 1s/step - loss: 3.4727 - accuracy: 0.1347 - val_loss: 3.4053 - val_accuracy: 0.1055\n",
      "Epoch 7/20\n",
      "64/64 [==============================] - 105s 1s/step - loss: 3.4478 - accuracy: 0.1106 - val_loss: 3.4452 - val_accuracy: 0.1367\n",
      "Epoch 8/20\n",
      "64/64 [==============================] - 106s 1s/step - loss: 3.3926 - accuracy: 0.1336 - val_loss: 3.3466 - val_accuracy: 0.1660\n",
      "Epoch 9/20\n",
      "64/64 [==============================] - 105s 1s/step - loss: 3.3502 - accuracy: 0.1327 - val_loss: 3.2725 - val_accuracy: 0.1914\n",
      "Epoch 10/20\n",
      "64/64 [==============================] - 98s 1s/step - loss: 3.3102 - accuracy: 0.1446 - val_loss: 3.3014 - val_accuracy: 0.1836\n",
      "Epoch 11/20\n",
      "64/64 [==============================] - 105s 1s/step - loss: 3.2344 - accuracy: 0.1722 - val_loss: 3.2578 - val_accuracy: 0.1992\n",
      "Epoch 12/20\n",
      "64/64 [==============================] - 101s 1s/step - loss: 3.2027 - accuracy: 0.1747 - val_loss: 3.1962 - val_accuracy: 0.1738\n",
      "Epoch 13/20\n",
      "64/64 [==============================] - 106s 1s/step - loss: 3.1703 - accuracy: 0.1895 - val_loss: 3.1661 - val_accuracy: 0.1992\n",
      "Epoch 14/20\n",
      "64/64 [==============================] - 97s 1s/step - loss: 3.1867 - accuracy: 0.1758 - val_loss: 3.1272 - val_accuracy: 0.2031\n",
      "Epoch 15/20\n",
      "64/64 [==============================] - 97s 1s/step - loss: 3.1505 - accuracy: 0.1751 - val_loss: 3.1936 - val_accuracy: 0.1934\n",
      "Epoch 16/20\n",
      "64/64 [==============================] - 104s 1s/step - loss: 3.1523 - accuracy: 0.1793 - val_loss: 3.1712 - val_accuracy: 0.2031\n",
      "Epoch 17/20\n",
      "64/64 [==============================] - 98s 1s/step - loss: 3.1235 - accuracy: 0.1701 - val_loss: 3.1225 - val_accuracy: 0.2168\n",
      "Epoch 18/20\n",
      "64/64 [==============================] - 104s 1s/step - loss: 3.1089 - accuracy: 0.1971 - val_loss: 3.1096 - val_accuracy: 0.1914\n",
      "Epoch 19/20\n",
      "64/64 [==============================] - 96s 1s/step - loss: 3.0737 - accuracy: 0.1919 - val_loss: 3.0105 - val_accuracy: 0.2383\n",
      "Epoch 20/20\n",
      "64/64 [==============================] - 106s 1s/step - loss: 3.0689 - accuracy: 0.1982 - val_loss: 3.1098 - val_accuracy: 0.2051\n"
     ]
    },
    {
     "data": {
      "text/plain": [
       "<keras.callbacks.History at 0x7f3468837e90>"
      ]
     },
     "execution_count": 46,
     "metadata": {
      "tags": []
     },
     "output_type": "execute_result"
    }
   ],
   "source": [
    "deepnet_model = Sequential(\n",
    "        [\n",
    "            layers.Conv2D(32, kernel_size=(5,5), activation='relu', input_shape=input_shape),\n",
    "            layers.Conv2D(32, kernel_size=(3,3), activation='relu'),\n",
    "            layers.Conv2D(32, kernel_size=(1,1), activation='relu'),\n",
    "            layers.MaxPooling2D(),\n",
    "         \n",
    "            layers.Conv2D(64, kernel_size=(3,3), activation='relu', input_shape=input_shape),\n",
    "            layers.Conv2D(32, kernel_size=(5,5), activation='relu'),\n",
    "            layers.MaxPooling2D(),\n",
    "         \n",
    "            layers.Conv2D(64, kernel_size=(3, 3), activation='relu'),\n",
    "            layers.Conv2D(32, kernel_size=(5,5), activation='relu'),\n",
    "            layers.MaxPooling2D(),\n",
    "         \n",
    "            layers.Conv2D(128, kernel_size=(5,5), activation='relu'),\n",
    "            layers.MaxPooling2D(),\n",
    "           \n",
    "            layers.Flatten(),\n",
    "            layers.Dropout(0.3),\n",
    "            layers.Dense(128, activation=\"relu\"),\n",
    "            layers.Dropout(0.3),\n",
    "            layers.Dense(64, activation=\"relu\"),\n",
    "            layers.Dense(num_classes, activation=\"softmax\"),\n",
    "           \n",
    "        ])\n",
    "deepnet_model.summary()\n",
    "\n",
    "deepnet_model.compile(optimizer='adam', loss=\"categorical_crossentropy\", metrics=[\"accuracy\"])\n",
    "deepnet_model.fit(train_datagen, steps_per_epoch=64, epochs=epochs, validation_data=val_datagen, validation_steps=8, workers=8)"
   ]
  },
  {
   "cell_type": "code",
   "execution_count": null,
   "id": "2f337693",
   "metadata": {
    "id": "bRMyZxW9_LrP"
   },
   "outputs": [],
   "source": [
    "\n",
    "\n"
   ]
  },
  {
   "cell_type": "markdown",
   "id": "dfad0ba2",
   "metadata": {
    "id": "klG6BlBCVxYr"
   },
   "source": [
    "Testing models"
   ]
  },
  {
   "cell_type": "code",
   "execution_count": 47,
   "id": "7c94f4eb",
   "metadata": {
    "colab": {
     "base_uri": "https://localhost:8080/"
    },
    "id": "rbh-wxDXVxYs",
    "outputId": "2b5eb0a0-21fe-4158-b522-1a55608def79"
   },
   "outputs": [
    {
     "name": "stderr",
     "output_type": "stream",
     "text": [
      "/usr/local/lib/python3.7/dist-packages/keras/engine/training.py:1948: UserWarning: `Model.evaluate_generator` is deprecated and will be removed in a future version. Please use `Model.evaluate`, which supports generators.\n",
      "  warnings.warn('`Model.evaluate_generator` is deprecated and '\n"
     ]
    },
    {
     "name": "stdout",
     "output_type": "stream",
     "text": [
      "-----------basic model-----------\n",
      "Test loss:  2.533268928527832\n",
      "Test accuracy:  0.3275453746318817\n",
      "-----------widenet model-----------\n",
      "Test loss:  2.327162027359009\n",
      "Test accuracy:  0.35674822330474854\n",
      "-----------bigger kernel model-----------\n",
      "Test loss:  2.6709682941436768\n",
      "Test accuracy:  0.288082093000412\n",
      "-----------deepnet model-----------\n",
      "Test loss:  3.042539358139038\n",
      "Test accuracy:  0.19652722775936127\n"
     ]
    }
   ],
   "source": [
    "models = [model, widenet_model, big_model, deepnet_model]\n",
    "model_scores = {}\n",
    "\n",
    "basic_score = model.evaluate_generator(test_datagen)\n",
    "print(\"-----------basic model-----------\")\n",
    "print(\"Test loss: \", basic_score[0])\n",
    "print(\"Test accuracy: \", basic_score[1])\n",
    "\n",
    "\n",
    "widenet_score = widenet_model.evaluate_generator(test_datagen)\n",
    "print(\"-----------widenet model-----------\")\n",
    "print(\"Test loss: \", widenet_score[0])\n",
    "print(\"Test accuracy: \", widenet_score[1])\n",
    "\n",
    "big_score = big_model.evaluate_generator(test_datagen)\n",
    "print(\"-----------bigger kernel model-----------\")\n",
    "print(\"Test loss: \", big_score[0])\n",
    "print(\"Test accuracy: \", big_score[1])\n",
    "\n",
    "deepnet_score = deepnet_model.evaluate_generator(test_datagen)\n",
    "print(\"-----------deepnet model-----------\")\n",
    "print(\"Test loss: \", deepnet_score[0])\n",
    "print(\"Test accuracy: \", deepnet_score[1])\n",
    "      "
   ]
  },
  {
   "cell_type": "code",
   "execution_count": 48,
   "id": "277e4c6f",
   "metadata": {
    "colab": {
     "base_uri": "https://localhost:8080/",
     "height": 279
    },
    "id": "CMYNSHzH9X_P",
    "outputId": "d91cf0e9-804b-4b46-cac3-12b79d851ab1"
   },
   "outputs": [
    {
     "data": {
      "image/png": "[encoded data removed]",
      "text/plain": [
       "<Figure size 432x288 with 1 Axes>"
      ]
     },
     "metadata": {
      "needs_background": "light",
      "tags": []
     },
     "output_type": "display_data"
    }
   ],
   "source": [
    "scores = {\"model\" : [\"basic model\", \"widenet model\", \"big kernel model\", \"deepnet model\"],\n",
    "          \"loss\": [basic_score[0], widenet_score[0], big_score[0], deepnet_score[0]],\n",
    "          \"accuracy\": [basic_score[1], widenet_score[1], big_score[1], deepnet_score[1]]}\n",
    "\n",
    "scores_df = pd.DataFrame(scores)\n",
    "\n",
    "loss_plot = sns.barplot(data=scores_df, x=\"model\", y=\"loss\")"
   ]
  },
  {
   "cell_type": "code",
   "execution_count": null,
   "id": "b18591d2",
   "metadata": {
    "colab": {
     "base_uri": "https://localhost:8080/",
     "height": 279
    },
    "id": "054B6ArQ-bvS",
    "outputId": "26351d28-f9a9-457c-bc90-069942f48665"
   },
   "outputs": [
    {
     "data": {
      "image/png": "[encoded data removed]",
      "text/plain": [
       "<Figure size 432x288 with 1 Axes>"
      ]
     },
     "metadata": {
      "needs_background": "light",
      "tags": []
     },
     "output_type": "display_data"
    }
   ],
   "source": [
    "acc_plot = sns.barplot(data=scores_df, x=\"model\", y=\"accuracy\") "
   ]
  },
  {
   "cell_type": "markdown",
   "id": "d3594b75",
   "metadata": {
    "id": "M3lJB07KEEKS"
   },
   "source": [
    "Things of Interest (papers, dataset)"
   ]
  },
  {
   "cell_type": "markdown",
   "id": "273dae1f",
   "metadata": {
    "id": "FmeG1QKuEGKf"
   },
   "source": [
    "[The First Main Paper](https://arxiv.org/pdf/1708.00684.pdf)\n",
    "\n",
    "[Preliminary Research for Experiments](https://www.sicara.ai/blog/2019-10-31-convolutional-layer-convolution-kernel)\n",
    "\n",
    "[Kaggle Dataset - artists.csv](https://www.kaggle.com/ikarus777/best-artworks-of-all-time)"
   ]
  }
 ],
 "metadata": {
  "accelerator": "GPU",
  "colab": {
   "collapsed_sections": [],
   "name": "artist_attribution.ipynb",
   "provenance": []
  },
  "kernelspec": {
   "display_name": "Python 3",
   "language": "python",
   "name": "python3"
  },
  "language_info": {
   "codemirror_mode": {
    "name": "ipython",
    "version": 3
   },
   "file_extension": ".py",
   "mimetype": "text/x-python",
   "name": "python",
   "nbconvert_exporter": "python",
   "pygments_lexer": "ipython3",
   "version": "3.7.10"
  }
 },
 "nbformat": 4,
 "nbformat_minor": 5
}
